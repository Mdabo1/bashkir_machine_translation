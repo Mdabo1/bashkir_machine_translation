{
 "cells": [
  {
   "cell_type": "code",
   "execution_count": 1,
   "metadata": {},
   "outputs": [],
   "source": [
    "import re\n",
    "\n",
    "def remove_number_pairs(input_file, output_file):\n",
    "    with open(input_file, 'r', encoding='utf-8') as file:\n",
    "        text = file.read()\n",
    "\n",
    "    pairs = text.split('\\n\\n')  # Split the text into pairs based on double newline characters\n",
    "    pairs_removed = []\n",
    "    for pair in pairs:\n",
    "        lines = pair.split('\\n')  # Split each pair into lines\n",
    "        if not any(re.search(r'\\b\\d+\\b', line) for line in lines):  # Check if any line in the pair contains a number\n",
    "            pairs_removed.ddappend(pair)\n",
    "\n",
    "    with open(output_file, 'w', encoding='utf-8') as file:\n",
    "        file.write('\\n\\n'.join(pairs_removed))  # Write the pairs back to the output file with double newline separators\n",
    "\n",
    "# Example usage:\n",
    "input_file = 'output.txt'  # Replace 'input.txt' with your input file name\n",
    "output_file = 'output_2.txt'  # Replace 'output.txt' with the desired output file name\n",
    "remove_number_pairs(input_file, output_file)\n"
   ]
  },
  {
   "cell_type": "code",
   "execution_count": null,
   "metadata": {},
   "outputs": [],
   "source": []
  }
 ],
 "metadata": {
  "kernelspec": {
   "display_name": ".venv",
   "language": "python",
   "name": "python3"
  },
  "language_info": {
   "codemirror_mode": {
    "name": "ipython",
    "version": 3
   },
   "file_extension": ".py",
   "mimetype": "text/x-python",
   "name": "python",
   "nbconvert_exporter": "python",
   "pygments_lexer": "ipython3",
   "version": "3.11.1"
  }
 },
 "nbformat": 4,
 "nbformat_minor": 2
}
