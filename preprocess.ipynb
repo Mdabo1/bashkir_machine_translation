{
 "cells": [
  {
   "cell_type": "markdown",
   "metadata": {},
   "source": [
    "Adding 1000 sentences"
   ]
  },
  {
   "cell_type": "code",
   "execution_count": 1,
   "metadata": {},
   "outputs": [],
   "source": [
    "with open(\"text\\\\1000-sentences\\\\ba\\\\1.txt\", \"r\", encoding='utf-8') as ba_1:\n",
    "    lines_bash_1 = ba_1.readlines()\n",
    "with open(\"text\\\\1000-sentences\\\\ba\\\\2.txt\", \"r\", encoding='utf-8') as ba_1:\n",
    "    lines_bash_2 = ba_1.readlines()\n",
    "with open(\"text\\\\1000-sentences\\\\ba\\\\3.txt\", \"r\", encoding='utf-8') as ba_1:\n",
    "    lines_bash_3 = ba_1.readlines()\n",
    "with open(\"text\\\\1000-sentences\\\\ba\\\\4.txt\", \"r\", encoding='utf-8') as ba_1:\n",
    "    lines_bash_4 = ba_1.readlines()\n",
    "with open(\"text\\\\1000-sentences\\\\ba\\\\5.txt\", \"r\", encoding='utf-8') as ba_1:\n",
    "    lines_bash_5 = ba_1.readlines()\n",
    "with open(\"text\\\\1000-sentences\\\\ba\\\\6.txt\", \"r\", encoding='utf-8') as ba_1:\n",
    "    lines_bash_6 = ba_1.readlines()\n",
    "with open(\"text\\\\1000-sentences\\\\ba\\\\7.txt\", \"r\", encoding='utf-8') as ba_1:\n",
    "    lines_bash_7 = ba_1.readlines()\n",
    "with open(\"text\\\\1000-sentences\\\\ba\\\\8.txt\", \"r\", encoding='utf-8') as ba_1:\n",
    "    lines_bash_8 = ba_1.readlines()\n",
    "with open(\"text\\\\1000-sentences\\\\ba\\\\9.txt\", \"r\", encoding='utf-8') as ba_1:\n",
    "    lines_bash_9 = ba_1.readlines()\n",
    "with open(\"text\\\\1000-sentences\\\\ba\\\\10.txt\", \"r\", encoding='utf-8') as ba_1:\n",
    "    lines_bash_10 = ba_1.readlines()"
   ]
  },
  {
   "cell_type": "code",
   "execution_count": 2,
   "metadata": {},
   "outputs": [],
   "source": [
    "with open(\"text\\\\1000-sentences\\\\ru\\\\1.txt\", \"r\", encoding='utf-8') as ba_1:\n",
    "    lines_rus_1 = ba_1.readlines()\n",
    "with open(\"text\\\\1000-sentences\\\\ru\\\\2.txt\", \"r\", encoding='utf-8') as ba_1:\n",
    "    lines_rus_2 = ba_1.readlines()\n",
    "with open(\"text\\\\1000-sentences\\\\ru\\\\3.txt\", \"r\", encoding='utf-8') as ba_1:\n",
    "    lines_rus_3 = ba_1.readlines()\n",
    "with open(\"text\\\\1000-sentences\\\\ru\\\\4.txt\", \"r\", encoding='utf-8') as ba_1:\n",
    "    lines_rus_4 = ba_1.readlines()\n",
    "with open(\"text\\\\1000-sentences\\\\ru\\\\5.txt\", \"r\", encoding='utf-8') as ba_1:\n",
    "    lines_rus_5 = ba_1.readlines()\n",
    "with open(\"text\\\\1000-sentences\\\\ru\\\\6.txt\", \"r\", encoding='utf-8') as ba_1:\n",
    "    lines_rus_6 = ba_1.readlines()\n",
    "with open(\"text\\\\1000-sentences\\\\ru\\\\7.txt\", \"r\", encoding='utf-8') as ba_1:\n",
    "    lines_rus_7 = ba_1.readlines()\n",
    "with open(\"text\\\\1000-sentences\\\\ru\\\\8.txt\", \"r\", encoding='utf-8') as ba_1:\n",
    "    lines_rus_8 = ba_1.readlines()\n",
    "with open(\"text\\\\1000-sentences\\\\ru\\\\9.txt\", \"r\", encoding='utf-8') as ba_1:\n",
    "    lines_rus_9 = ba_1.readlines()\n",
    "with open(\"text\\\\1000-sentences\\\\ru\\\\10.txt\", \"r\", encoding='utf-8') as ba_1:\n",
    "    lines_rus_10 = ba_1.readlines()"
   ]
  },
  {
   "cell_type": "code",
   "execution_count": 3,
   "metadata": {},
   "outputs": [],
   "source": [
    "stack = []\n",
    "for i in range(len(lines_bash_1)):\n",
    "    stack.append([lines_rus_1[i], lines_bash_1[i]]) \n",
    "    stack.append([lines_rus_2[i], lines_bash_2[i]])\n",
    "    stack.append([lines_rus_3[i], lines_bash_3[i]]) \n",
    "    stack.append([lines_rus_4[i], lines_bash_4[i]]) \n",
    "    stack.append([lines_rus_5[i], lines_bash_5[i]]) \n",
    "    stack.append([lines_rus_6[i], lines_bash_6[i]]) \n",
    "    stack.append([lines_rus_7[i], lines_bash_7[i]]) \n",
    "    stack.append([lines_rus_8[i], lines_bash_8[i]]) \n",
    "    stack.append([lines_rus_9[i], lines_bash_9[i]]) \n",
    "    stack.append([lines_rus_10[i], lines_bash_10[i]]) "
   ]
  },
  {
   "cell_type": "code",
   "execution_count": 4,
   "metadata": {},
   "outputs": [
    {
     "data": {
      "text/plain": [
       "1000"
      ]
     },
     "execution_count": 4,
     "metadata": {},
     "output_type": "execute_result"
    }
   ],
   "source": [
    "len(stack)"
   ]
  },
  {
   "cell_type": "markdown",
   "metadata": {},
   "source": [
    "Adding encyclopedia"
   ]
  },
  {
   "cell_type": "code",
   "execution_count": 5,
   "metadata": {},
   "outputs": [],
   "source": [
    "with open(\"text\\\\bash_encyclopedia\\\\ru\\\\___BashEncycl_all.tmx.txt\", \"r\", encoding='utf-8') as ba_1:\n",
    "    lines_rus = ba_1.readlines()\n",
    "with open(\"text\\\\bash_encyclopedia\\\\ba\\\\___BashEncycl_all.tmx.txt\", \"r\", encoding='utf-8') as ba_1:\n",
    "    lines_bash = ba_1.readlines()"
   ]
  },
  {
   "cell_type": "code",
   "execution_count": 6,
   "metadata": {},
   "outputs": [],
   "source": [
    "for i in range(len(lines_rus)):\n",
    "    stack.append([lines_rus[i], lines_bash[i]]) "
   ]
  },
  {
   "cell_type": "code",
   "execution_count": 7,
   "metadata": {},
   "outputs": [
    {
     "data": {
      "text/plain": [
       "151256"
      ]
     },
     "execution_count": 7,
     "metadata": {},
     "output_type": "execute_result"
    }
   ],
   "source": [
    "len(stack)"
   ]
  },
  {
   "cell_type": "markdown",
   "metadata": {},
   "source": [
    "Adding news and proverbs (the last one)"
   ]
  },
  {
   "cell_type": "code",
   "execution_count": 8,
   "metadata": {},
   "outputs": [],
   "source": [
    "with open(\"text\\\\bashinform\\\\ba\\\\bashinform 16.05.2020 - 20.09.2020.tmx.txt\", \"r\", encoding='utf-8') as ba_1:\n",
    "    lines_bash_1 = ba_1.readlines()\n",
    "with open(\"text\\\\bashinform\\\\ba\\\\bashinform 2009_15.07.2020.tmx.txt\", \"r\", encoding='utf-8') as ba_1:\n",
    "    lines_bash_2 = ba_1.readlines()\n",
    "with open(\"text\\\\bashinform\\\\ba\\\\bashinform_from_pics.tmx.txt\", \"r\", encoding='utf-8') as ba_1:\n",
    "    lines_bash_3 = ba_1.readlines()\n",
    "with open(\"text\\\\bashinform\\\\ba\\\\bashinform_idel 11.2010-09.2011.tmx.txt\", \"r\", encoding='utf-8') as ba_1:\n",
    "    lines_bash_4 = ba_1.readlines()\n",
    "with open(\"text\\\\bashinform\\\\ba\\\\bashinform_idel 2011-.tmx.txt\", \"r\", encoding='utf-8') as ba_1:\n",
    "    lines_bash_5 = ba_1.readlines()\n",
    "with open(\"text\\\\bashinform\\\\ba\\\\bashinform_idel 2012-.tmx.txt\", \"r\", encoding='utf-8') as ba_1:\n",
    "    lines_bash_6 = ba_1.readlines()\n",
    "with open(\"text\\\\bashinform\\\\ba\\\\bashinform_idel 2014-.tmx.txt\", \"r\", encoding='utf-8') as ba_1:\n",
    "    lines_bash_7 = ba_1.readlines()\n",
    "with open(\"text\\\\bashinform\\\\ba\\\\bashinform_idel 2015-.tmx.txt\", \"r\", encoding='utf-8') as ba_1:\n",
    "    lines_bash_8 = ba_1.readlines()\n",
    "with open(\"text\\\\bashinform\\\\ba\\\\bashinform_idel 2016-.tmx.txt\", \"r\", encoding='utf-8') as ba_1:\n",
    "    lines_bash_9 = ba_1.readlines()\n",
    "with open(\"text\\\\bashinform\\\\ba\\\\bashinform_idel 2017-.tmx.txt\", \"r\", encoding='utf-8') as ba_1:\n",
    "    lines_bash_10 = ba_1.readlines()\n",
    "with open(\"text\\\\bashinform\\\\ba\\\\bashinform_idel sept.2020-06.01.2021.tmx.txt\", \"r\", encoding='utf-8') as ba_1:\n",
    "    lines_bash_11 = ba_1.readlines()\n",
    "with open(\"text\\\\bashinform\\\\ba\\\\bashinform.ru (08.12.2017 - 16.05.2020).tmx.txt\", \"r\", encoding='utf-8') as ba_1:\n",
    "    lines_bash_12 = ba_1.readlines()\n",
    "with open(\"text\\\\bashinform\\\\ba\\\\Pearls of the Language.2020.tmx.txt\", \"r\", encoding='utf-8') as ba_1:\n",
    "    lines_bash_13 = ba_1.readlines()"
   ]
  },
  {
   "cell_type": "code",
   "execution_count": 9,
   "metadata": {},
   "outputs": [],
   "source": [
    "with open(\"text\\\\bashinform\\\\ru\\\\bashinform 16.05.2020 - 20.09.2020.tmx.txt\", \"r\", encoding='utf-8') as ba_1:\n",
    "    lines_rus_1 = ba_1.readlines()\n",
    "with open(\"text\\\\bashinform\\\\ru\\\\bashinform 2009_15.07.2020.tmx.txt\", \"r\", encoding='utf-8') as ba_1:\n",
    "    lines_rus_2 = ba_1.readlines()\n",
    "with open(\"text\\\\bashinform\\\\ru\\\\bashinform_from_pics.tmx.txt\", \"r\", encoding='utf-8') as ba_1:\n",
    "    lines_rus_3 = ba_1.readlines()\n",
    "with open(\"text\\\\bashinform\\\\ru\\\\bashinform_idel 11.2010-09.2011.tmx.txt\", \"r\", encoding='utf-8') as ba_1:\n",
    "    lines_rus_4 = ba_1.readlines()\n",
    "with open(\"text\\\\bashinform\\\\ru\\\\bashinform_idel 2011-.tmx.txt\", \"r\", encoding='utf-8') as ba_1:\n",
    "    lines_rus_5 = ba_1.readlines()\n",
    "with open(\"text\\\\bashinform\\\\ru\\\\bashinform_idel 2012-.tmx.txt\", \"r\", encoding='utf-8') as ba_1:\n",
    "    lines_rus_6 = ba_1.readlines()\n",
    "with open(\"text\\\\bashinform\\\\ru\\\\bashinform_idel 2014-.tmx.txt\", \"r\", encoding='utf-8') as ba_1:\n",
    "    lines_rus_7 = ba_1.readlines()\n",
    "with open(\"text\\\\bashinform\\\\ru\\\\bashinform_idel 2015-.tmx.txt\", \"r\", encoding='utf-8') as ba_1:\n",
    "    lines_rus_8 = ba_1.readlines()\n",
    "with open(\"text\\\\bashinform\\\\ru\\\\bashinform_idel 2016-.tmx.txt\", \"r\", encoding='utf-8') as ba_1:\n",
    "    lines_rus_8 = ba_1.readlines()\n",
    "with open(\"text\\\\bashinform\\\\ru\\\\bashinform_idel 2017-.tmx.txt\", \"r\", encoding='utf-8') as ba_1:\n",
    "    lines_rus_10 = ba_1.readlines()\n",
    "with open(\"text\\\\bashinform\\\\ru\\\\bashinform_idel sept.2020-06.01.2021.tmx.txt\", \"r\", encoding='utf-8') as ba_1:\n",
    "    lines_rus_11 = ba_1.readlines()\n",
    "with open(\"text\\\\bashinform\\\\ru\\\\bashinform.ru (08.12.2017 - 16.05.2020).tmx.txt\", \"r\", encoding='utf-8') as ba_1:\n",
    "    lines_rus_12 = ba_1.readlines()\n",
    "with open(\"text\\\\bashinform\\\\ru\\\\Pearls of the Language.2020.tmx.txt\", \"r\", encoding='utf-8') as ba_1:\n",
    "    lines_rus_13 = ba_1.readlines()"
   ]
  },
  {
   "cell_type": "code",
   "execution_count": 10,
   "metadata": {},
   "outputs": [],
   "source": [
    "for i in range(len(lines_rus_1)):\n",
    "    stack.append([lines_rus_1[i], lines_bash_1[i]])\n",
    "for i in range(len(lines_rus_2)):\n",
    "    stack.append([lines_rus_2[i], lines_bash_2[i]])\n",
    "for i in range(len(lines_rus_3)):\n",
    "    stack.append([lines_rus_3[i], lines_bash_3[i]])\n",
    "for i in range(len(lines_rus_4)):\n",
    "    stack.append([lines_rus_4[i], lines_bash_4[i]])\n",
    "for i in range(len(lines_rus_5)):\n",
    "    stack.append([lines_rus_5[i], lines_bash_5[i]])\n",
    "for i in range(len(lines_rus_6)):\n",
    "    stack.append([lines_rus_6[i], lines_bash_6[i]])\n",
    "for i in range(len(lines_rus_7)):\n",
    "    stack.append([lines_rus_7[i], lines_bash_7[i]])\n",
    "for i in range(len(lines_rus_8)):\n",
    "    stack.append([lines_rus_8[i], lines_bash_8[i]])\n",
    "for i in range(len(lines_rus_9)):\n",
    "    stack.append([lines_rus_9[i], lines_bash_9[i]])\n",
    "for i in range(len(lines_rus_10)):\n",
    "    stack.append([lines_rus_10[i], lines_bash_10[i]])\n",
    "for i in range(len(lines_rus_11)):\n",
    "    stack.append([lines_rus_11[i], lines_bash_11[i]])\n",
    "for i in range(len(lines_rus_12)):\n",
    "    stack.append([lines_rus_12[i], lines_bash_12[i]])\n",
    "for i in range(len(lines_rus_13)):\n",
    "    stack.append([lines_rus_13[i], lines_bash_13[i]]) "
   ]
  },
  {
   "cell_type": "code",
   "execution_count": 11,
   "metadata": {},
   "outputs": [
    {
     "data": {
      "text/plain": [
       "498771"
      ]
     },
     "execution_count": 11,
     "metadata": {},
     "output_type": "execute_result"
    }
   ],
   "source": [
    "len(stack)"
   ]
  },
  {
   "cell_type": "markdown",
   "metadata": {},
   "source": [
    "Adding little prince book"
   ]
  },
  {
   "cell_type": "code",
   "execution_count": 12,
   "metadata": {},
   "outputs": [],
   "source": [
    "with open(\"text\\\\little_prince\\\\ru\\\\Princ_2018.tmx.txt\", \"r\", encoding='utf-8') as ba_1:\n",
    "    lines_rus = ba_1.readlines()\n",
    "with open(\"text\\\\little_prince\\\\ba\\\\Princ_2018.tmx.txt\", \"r\", encoding='utf-8') as ba_1:\n",
    "    lines_bash = ba_1.readlines()"
   ]
  },
  {
   "cell_type": "code",
   "execution_count": 13,
   "metadata": {},
   "outputs": [],
   "source": [
    "for i in range(len(lines_rus)):\n",
    "    stack.append([lines_rus[i], lines_bash[i]]) "
   ]
  },
  {
   "cell_type": "code",
   "execution_count": 14,
   "metadata": {},
   "outputs": [
    {
     "data": {
      "text/plain": [
       "500395"
      ]
     },
     "execution_count": 14,
     "metadata": {},
     "output_type": "execute_result"
    }
   ],
   "source": [
    "len(stack)"
   ]
  },
  {
   "cell_type": "markdown",
   "metadata": {},
   "source": [
    "Adding other translated books"
   ]
  },
  {
   "cell_type": "code",
   "execution_count": 15,
   "metadata": {},
   "outputs": [],
   "source": [
    "import pandas as pd\n",
    "\n",
    "df = pd.read_csv('text\\\\ba-ru.tsv',sep='\\t',on_bad_lines='skip')"
   ]
  },
  {
   "cell_type": "code",
   "execution_count": 16,
   "metadata": {},
   "outputs": [],
   "source": [
    "for i in range(len(df)):\n",
    "    stack.append([df['Русса'][i], df['Башҡортса'][i]])"
   ]
  },
  {
   "cell_type": "code",
   "execution_count": 17,
   "metadata": {},
   "outputs": [
    {
     "data": {
      "text/plain": [
       "629126"
      ]
     },
     "execution_count": 17,
     "metadata": {},
     "output_type": "execute_result"
    }
   ],
   "source": [
    "len(stack)"
   ]
  },
  {
   "cell_type": "markdown",
   "metadata": {},
   "source": [
    "Add tatoeba dataset"
   ]
  },
  {
   "cell_type": "code",
   "execution_count": 18,
   "metadata": {},
   "outputs": [],
   "source": [
    "with open(\"text\\\\Пары предложений на русский-башкирский - 2024-03-04 (1).tsv\", \"r\", encoding='utf-8') as ba_1:\n",
    "    lines = ba_1.readlines()"
   ]
  },
  {
   "cell_type": "code",
   "execution_count": 19,
   "metadata": {},
   "outputs": [],
   "source": [
    "for line in lines:\n",
    "    columns = line.split('\\t')\n",
    "    stack.append([columns[1], columns[3]])"
   ]
  },
  {
   "cell_type": "code",
   "execution_count": 20,
   "metadata": {},
   "outputs": [
    {
     "data": {
      "text/plain": [
       "629201"
      ]
     },
     "execution_count": 20,
     "metadata": {},
     "output_type": "execute_result"
    }
   ],
   "source": [
    "len(stack)"
   ]
  },
  {
   "cell_type": "markdown",
   "metadata": {},
   "source": [
    "Adding recent news (2021-2022)"
   ]
  },
  {
   "cell_type": "code",
   "execution_count": 21,
   "metadata": {},
   "outputs": [],
   "source": [
    "with open(\"text\\\\bashinform_new\\\\bashinform 05.12.2022 - 04.02.2023 (3741 пара).txt\", \"r\", encoding='utf-8') as ba_1:\n",
    "    lines = ba_1.readlines()\n",
    "\n",
    "new_stack = []\n",
    "\n",
    "for line in lines:\n",
    "    if '@' in line:\n",
    "        columns = line.split('@')\n",
    "    if ([columns[0],columns[1]]) not in new_stack:\n",
    "        new_stack.append([columns[0],columns[1]])\n",
    "\n",
    "stack += new_stack"
   ]
  },
  {
   "cell_type": "code",
   "execution_count": 22,
   "metadata": {},
   "outputs": [
    {
     "data": {
      "text/plain": [
       "632764"
      ]
     },
     "execution_count": 22,
     "metadata": {},
     "output_type": "execute_result"
    }
   ],
   "source": [
    "len(stack)"
   ]
  },
  {
   "cell_type": "code",
   "execution_count": 23,
   "metadata": {},
   "outputs": [],
   "source": [
    "with open(\"text\\\\bashinform_new\\\\bashinform 11.01.2021-20.07.2021.txt\", \"r\", encoding='utf-8') as ba_1:\n",
    "    lines = ba_1.readlines()\n",
    "\n",
    "new_stack = []\n",
    "\n",
    "for line in lines:\n",
    "    if '@' in line:\n",
    "        columns = line.split('@')\n",
    "    if ([columns[0],columns[1]]) not in new_stack:\n",
    "        new_stack.append([columns[0],columns[1]])\n",
    "\n",
    "stack += new_stack"
   ]
  },
  {
   "cell_type": "code",
   "execution_count": 24,
   "metadata": {},
   "outputs": [
    {
     "data": {
      "text/plain": [
       "641935"
      ]
     },
     "execution_count": 24,
     "metadata": {},
     "output_type": "execute_result"
    }
   ],
   "source": [
    "len(stack)"
   ]
  },
  {
   "cell_type": "code",
   "execution_count": 25,
   "metadata": {},
   "outputs": [],
   "source": [
    "with open(\"text\\\\bashinform_new\\\\bashinform 11.06.2022 - 03.12.2022.txt\", \"r\", encoding='utf-8') as ba_1:\n",
    "    lines = ba_1.readlines()\n",
    "\n",
    "new_stack = []\n",
    "\n",
    "for line in lines:\n",
    "    if '@' in line:\n",
    "        columns = line.split('@')\n",
    "    if ([columns[0],columns[1]]) not in new_stack:\n",
    "        new_stack.append([columns[0],columns[1]])\n",
    "\n",
    "stack += new_stack"
   ]
  },
  {
   "cell_type": "code",
   "execution_count": 26,
   "metadata": {},
   "outputs": [
    {
     "data": {
      "text/plain": [
       "651673"
      ]
     },
     "execution_count": 26,
     "metadata": {},
     "output_type": "execute_result"
    }
   ],
   "source": [
    "len(stack)"
   ]
  },
  {
   "cell_type": "code",
   "execution_count": 28,
   "metadata": {},
   "outputs": [],
   "source": [
    "with open(\"text\\\\bashinform_new\\\\bashinform 11.09.2021 - 16.04.2022.txt\", \"r\", encoding='utf-8') as ba_1:\n",
    "    lines = ba_1.readlines()\n",
    "\n",
    "new_stack = []\n",
    "\n",
    "for line in lines:\n",
    "    if '@' in line:\n",
    "        columns = line.split('@')\n",
    "    if ([columns[0],columns[1]]) not in new_stack:\n",
    "        new_stack.append([columns[0],columns[1]])\n",
    "\n",
    "stack += new_stack"
   ]
  },
  {
   "cell_type": "code",
   "execution_count": 29,
   "metadata": {},
   "outputs": [
    {
     "data": {
      "text/plain": [
       "660830"
      ]
     },
     "execution_count": 29,
     "metadata": {},
     "output_type": "execute_result"
    }
   ],
   "source": [
    "len(stack)"
   ]
  },
  {
   "cell_type": "code",
   "execution_count": 30,
   "metadata": {},
   "outputs": [],
   "source": [
    "with open(\"text\\\\bashinform_new\\\\bashinform 20.07.2021-11.09.2021.txt\", \"r\", encoding='utf-8') as ba_1:\n",
    "    lines = ba_1.readlines()\n",
    "\n",
    "new_stack = []\n",
    "\n",
    "for line in lines:\n",
    "    if '@' in line:\n",
    "        columns = line.split('@')\n",
    "    if ([columns[0],columns[1]]) not in new_stack:\n",
    "        new_stack.append([columns[0],columns[1]])\n",
    "\n",
    "stack += new_stack"
   ]
  },
  {
   "cell_type": "code",
   "execution_count": 31,
   "metadata": {},
   "outputs": [
    {
     "data": {
      "text/plain": [
       "663696"
      ]
     },
     "execution_count": 31,
     "metadata": {},
     "output_type": "execute_result"
    }
   ],
   "source": [
    "len(stack)"
   ]
  },
  {
   "cell_type": "code",
   "execution_count": 32,
   "metadata": {},
   "outputs": [],
   "source": [
    "with open(\"text\\\\bashinform_new\\\\bashinform.ru, bashdram.ru 16.04.2022 - 11.06.2022.txt\", \"r\", encoding='utf-8') as ba_1:\n",
    "    lines = ba_1.readlines()\n",
    "\n",
    "new_stack = []\n",
    "\n",
    "for line in lines:\n",
    "    if '@' in line:\n",
    "        columns = line.split('@')\n",
    "    if ([columns[0],columns[1]]) not in new_stack:\n",
    "        new_stack.append([columns[0],columns[1]])\n",
    "\n",
    "stack += new_stack"
   ]
  },
  {
   "cell_type": "code",
   "execution_count": 33,
   "metadata": {},
   "outputs": [
    {
     "data": {
      "text/plain": [
       "666254"
      ]
     },
     "execution_count": 33,
     "metadata": {},
     "output_type": "execute_result"
    }
   ],
   "source": [
    "len(stack)"
   ]
  },
  {
   "cell_type": "markdown",
   "metadata": {},
   "source": [
    "Книга бытия"
   ]
  },
  {
   "cell_type": "code",
   "execution_count": 34,
   "metadata": {},
   "outputs": [],
   "source": [
    "with open(\"text\\\\bashinform_new\\\\Башланмыш - Книга Бытия .txt\", \"r\", encoding='utf-8') as ba_1:\n",
    "    lines = ba_1.readlines()\n",
    "\n",
    "new_stack = []\n",
    "\n",
    "for line in lines:\n",
    "    if '@' in line:\n",
    "        columns = line.split('@')\n",
    "    if ([columns[0],columns[1]]) not in new_stack:\n",
    "        new_stack.append([columns[0],columns[1]])\n",
    "\n",
    "stack += new_stack\n",
    "stack.pop()"
   ]
  },
  {
   "cell_type": "code",
   "execution_count": 38,
   "metadata": {},
   "outputs": [
    {
     "data": {
      "text/plain": [
       "667767"
      ]
     },
     "execution_count": 38,
     "metadata": {},
     "output_type": "execute_result"
    }
   ],
   "source": [
    "len(stack)"
   ]
  },
  {
   "cell_type": "markdown",
   "metadata": {},
   "source": [
    "Glosbe"
   ]
  },
  {
   "cell_type": "code",
   "execution_count": 39,
   "metadata": {},
   "outputs": [],
   "source": [
    "with open(\"text\\\\bashinform_new\\\\глосбе_Батя Ялалетдин.txt\", \"r\", encoding='utf-8') as ba_1:\n",
    "    lines = ba_1.readlines()\n",
    "\n",
    "new_stack = []\n",
    "\n",
    "for line in lines:\n",
    "    if '@' in line:\n",
    "        columns = line.split('@')\n",
    "    if ([columns[0],columns[1]]) not in new_stack:\n",
    "        new_stack.append([columns[0],columns[1]])\n",
    "\n",
    "stack += new_stack"
   ]
  },
  {
   "cell_type": "code",
   "execution_count": 40,
   "metadata": {},
   "outputs": [
    {
     "data": {
      "text/plain": [
       "668453"
      ]
     },
     "execution_count": 40,
     "metadata": {},
     "output_type": "execute_result"
    }
   ],
   "source": [
    "len(stack)"
   ]
  },
  {
   "cell_type": "markdown",
   "metadata": {},
   "source": [
    "Еще парочка предложений :)"
   ]
  },
  {
   "cell_type": "code",
   "execution_count": 41,
   "metadata": {},
   "outputs": [],
   "source": [
    "with open(\"text\\\\bashinform_new\\\\Пары предложений на русский-башкирский - 2022-12-21 - tatoeba.tsv\", \"r\", encoding='utf-8') as ba_1:\n",
    "    lines = ba_1.readlines()\n",
    "\n",
    "new_stack = []\n",
    "\n",
    "for line in lines:\n",
    "    if '@' in line:\n",
    "        columns = line.split('@')\n",
    "    if ([columns[0],columns[1]]) not in new_stack:\n",
    "        new_stack.append([columns[0],columns[1]])\n",
    "\n",
    "stack += new_stack"
   ]
  },
  {
   "cell_type": "code",
   "execution_count": 42,
   "metadata": {},
   "outputs": [
    {
     "data": {
      "text/plain": [
       "668525"
      ]
     },
     "execution_count": 42,
     "metadata": {},
     "output_type": "execute_result"
    }
   ],
   "source": [
    "len(stack)"
   ]
  },
  {
   "cell_type": "markdown",
   "metadata": {},
   "source": [
    "Saving"
   ]
  },
  {
   "cell_type": "code",
   "execution_count": 43,
   "metadata": {},
   "outputs": [],
   "source": [
    "with open('text_ru_ba.txt', \"w\",encoding='utf-8') as file:\n",
    "    # Write each list element to a separate line\n",
    "    for sublist in stack:\n",
    "        file.write(str(sublist) + \"\\n\")"
   ]
  }
 ],
 "metadata": {
  "kernelspec": {
   "display_name": ".venv",
   "language": "python",
   "name": "python3"
  },
  "language_info": {
   "codemirror_mode": {
    "name": "ipython",
    "version": 3
   },
   "file_extension": ".py",
   "mimetype": "text/x-python",
   "name": "python",
   "nbconvert_exporter": "python",
   "pygments_lexer": "ipython3",
   "version": "3.11.1"
  }
 },
 "nbformat": 4,
 "nbformat_minor": 2
}
